{
 "cells": [
  {
   "cell_type": "markdown",
   "id": "8e440a33",
   "metadata": {},
   "source": [
    "# **DS 6001: Lab Assignment 5**\n",
    "## **Randa Ampah**"
   ]
  },
  {
   "cell_type": "markdown",
   "id": "85984153",
   "metadata": {},
   "source": [
    "## **Problem 0**"
   ]
  },
  {
   "cell_type": "code",
   "execution_count": 3,
   "id": "6ddd19ac",
   "metadata": {},
   "outputs": [],
   "source": [
    "import numpy as np\n",
    "import pandas as pd\n",
    "import requests\n",
    "from bs4 import BeautifulSoup"
   ]
  },
  {
   "cell_type": "markdown",
   "id": "0e8bec62",
   "metadata": {},
   "source": [
    "## **Problem 1**"
   ]
  },
  {
   "cell_type": "markdown",
   "id": "bb810764",
   "metadata": {},
   "source": [
    "### Part A\n",
    "\n",
    "To get the latest Common Crawl dataset, you would go to commoncrawl.org, click on the symbol with three lines in the top right corner, click on the dropdown tab that says \"The Data\", and then click on \"Latest Crawl\". You click on the link under the sentence \"The latest crawl is:\", which takes you to the webpage that gives you instructions to download the dataset, either through AWS or https. The dataset contains 2.39 billion web pages. The data obtained by Common Crawl is free to access for everyone."
   ]
  },
  {
   "cell_type": "markdown",
   "id": "dfb492d6",
   "metadata": {},
   "source": [
    "### Part B\n",
    "\n",
    "Common Crawl is more useful for the pre-training stage of LLM development. The Common Crawl corpus is used by many because it contains a massive amount of quality HTML code from a wide variety of web pages, which is what is needed for LLMs. It must be filtered because there are undesirable aspects, such as hate speech, error messages, duplicate text, etc that would not be good to include in an AI model."
   ]
  },
  {
   "cell_type": "markdown",
   "id": "1e6a52fc",
   "metadata": {},
   "source": [
    "### Part C\n",
    "\n",
    "Common Crawl's approach to finding web domains utilizing their calculated harmonic centrality means that websites with lower scores (or lower accessibility) are more likely to be excluded than the ones with more accessibility. While this does get rid of a lot of spam pages, it may also get rid of useful and good quality webpages with less direct traffic. They also sample aboout 50% of their URLs for their crawls from the CrawlDB, a large database of URLs previously fetched, with higher scored URLs being consistently included in crawls, while lower and more varied scored URLs are sampled inconsistently.\n",
    "\n",
    "Common Crawl has only published crawls once a month since 2017, and they do not retroactivelly capture URLs. This means that any information on sampled URLs in between crawls is not captured.\n",
    "\n",
    "Common Crawl respects robots.txt, which means that since many large domains have a robots.txt file, the large reserve of information from these domains cannot be recorded."
   ]
  },
  {
   "cell_type": "markdown",
   "id": "bcfce2d2",
   "metadata": {},
   "source": [
    "### Part D\n",
    "I agree with the changing of the Terms of Use to require the citing of Common Crawl's data if utilized in an LLM's training. I agree with this because like the article says, it would allow for more transparency between the companies producing these models and the customers utilizing them. If people were more aware of where and how the data within their LLM tool is collected and augmented, it would give them more of a picture of biases that may reside within the model. I also agree with Common Crawl itself being more transparent about its data collection and culling practices, since so many AI models are based on the data collected from Common Crawl, which makes the actions of Common Crawl something that affect maybe millions of people."
   ]
  },
  {
   "cell_type": "markdown",
   "id": "76ef55b1",
   "metadata": {},
   "source": [
    "## **Problem 2**"
   ]
  },
  {
   "cell_type": "markdown",
   "id": "187f5501",
   "metadata": {},
   "source": [
    "This problem uses a website made specifically for the intent of webscraping."
   ]
  },
  {
   "cell_type": "markdown",
   "id": "bc93f954",
   "metadata": {},
   "source": [
    "### Part A"
   ]
  },
  {
   "cell_type": "code",
   "execution_count": 5,
   "id": "dd36c39a",
   "metadata": {},
   "outputs": [
    {
     "data": {
      "text/plain": [
       "<Response [200]>"
      ]
     },
     "execution_count": 5,
     "metadata": {},
     "output_type": "execute_result"
    }
   ],
   "source": [
    "useragent = f'ds6001rt/0.0 (gba4fj@virginia.edu) python-requests/{requests.__version__}'\n",
    "headers = {'User-Agent': useragent,\n",
    "           'From': 'gba4fj@virginia.edu'}\n",
    "\n",
    "url = 'https://books.toscrape.com/'\n",
    "r = requests.get(url,headers=headers)\n",
    "r"
   ]
  },
  {
   "cell_type": "code",
   "execution_count": 4,
   "id": "ba84d83c",
   "metadata": {},
   "outputs": [],
   "source": [
    "#r.text"
   ]
  },
  {
   "cell_type": "code",
   "execution_count": 30,
   "id": "744e3ed2",
   "metadata": {},
   "outputs": [],
   "source": [
    "book_soup = BeautifulSoup(r.text,'html.parser')"
   ]
  },
  {
   "cell_type": "markdown",
   "id": "9d0a3bb9",
   "metadata": {},
   "source": [
    "### Part B"
   ]
  },
  {
   "cell_type": "code",
   "execution_count": 31,
   "id": "043865bc",
   "metadata": {},
   "outputs": [
    {
     "data": {
      "text/plain": [
       "['A Light in the Attic',\n",
       " 'Tipping the Velvet',\n",
       " 'Soumission',\n",
       " 'Sharp Objects',\n",
       " 'Sapiens: A Brief History of Humankind',\n",
       " 'The Requiem Red',\n",
       " 'The Dirty Little Secrets of Getting Your Dream Job',\n",
       " 'The Coming Woman: A Novel Based on the Life of the Infamous Feminist, Victoria Woodhull',\n",
       " 'The Boys in the Boat: Nine Americans and Their Epic Quest for Gold at the 1936 Berlin Olympics',\n",
       " 'The Black Maria',\n",
       " 'Starving Hearts (Triangular Trade Trilogy, #1)',\n",
       " \"Shakespeare's Sonnets\",\n",
       " 'Set Me Free',\n",
       " \"Scott Pilgrim's Precious Little Life (Scott Pilgrim #1)\",\n",
       " 'Rip it Up and Start Again',\n",
       " 'Our Band Could Be Your Life: Scenes from the American Indie Underground, 1981-1991',\n",
       " 'Olio',\n",
       " 'Mesaerion: The Best Science Fiction Stories 1800-1849',\n",
       " 'Libertarianism for Beginners',\n",
       " \"It's Only the Himalayas\"]"
      ]
     },
     "execution_count": 31,
     "metadata": {},
     "output_type": "execute_result"
    }
   ],
   "source": [
    "ts = book_soup.find_all('a', attrs={'title':True})\n",
    "titles = [t['title'] for t in ts]\n",
    "titles"
   ]
  },
  {
   "cell_type": "markdown",
   "id": "c02dcdde",
   "metadata": {},
   "source": [
    "### Part C"
   ]
  },
  {
   "cell_type": "code",
   "execution_count": 33,
   "id": "99405f9a",
   "metadata": {},
   "outputs": [
    {
     "data": {
      "text/plain": [
       "['51.77',\n",
       " '53.74',\n",
       " '50.10',\n",
       " '47.82',\n",
       " '54.23',\n",
       " '22.65',\n",
       " '33.34',\n",
       " '17.93',\n",
       " '22.60',\n",
       " '52.15',\n",
       " '13.99',\n",
       " '20.66',\n",
       " '17.46',\n",
       " '52.29',\n",
       " '35.02',\n",
       " '57.25',\n",
       " '23.88',\n",
       " '37.59',\n",
       " '51.33',\n",
       " '45.17']"
      ]
     },
     "execution_count": 33,
     "metadata": {},
     "output_type": "execute_result"
    }
   ],
   "source": [
    "ps = book_soup.find_all('p', attrs={'class':'price_color'})\n",
    "prices = [p.text for p in ps]\n",
    "prices = [s.replace('Â£', '') for s in prices] \n",
    "prices"
   ]
  },
  {
   "cell_type": "markdown",
   "id": "282dc050",
   "metadata": {},
   "source": [
    "### Part D"
   ]
  },
  {
   "cell_type": "code",
   "execution_count": 32,
   "id": "ede50167",
   "metadata": {},
   "outputs": [
    {
     "data": {
      "text/plain": [
       "['Three',\n",
       " 'One',\n",
       " 'One',\n",
       " 'Four',\n",
       " 'Five',\n",
       " 'One',\n",
       " 'Four',\n",
       " 'Three',\n",
       " 'Four',\n",
       " 'One',\n",
       " 'Two',\n",
       " 'Four',\n",
       " 'Five',\n",
       " 'Five',\n",
       " 'Five',\n",
       " 'Three',\n",
       " 'One',\n",
       " 'One',\n",
       " 'Two',\n",
       " 'Two']"
      ]
     },
     "execution_count": 32,
     "metadata": {},
     "output_type": "execute_result"
    }
   ],
   "source": [
    "rs = book_soup.find_all('p', attrs={'class':'star-rating'})\n",
    "ratings = [r['class'][1] for r in rs]\n",
    "ratings"
   ]
  },
  {
   "cell_type": "markdown",
   "id": "33e6b847",
   "metadata": {},
   "source": [
    "### Part E"
   ]
  },
  {
   "cell_type": "code",
   "execution_count": 33,
   "id": "e61da0ce",
   "metadata": {},
   "outputs": [
    {
     "data": {
      "text/plain": [
       "['media/cache/2c/da/2cdad67c44b002e7ead0cc35693c0e8b.jpg',\n",
       " 'media/cache/26/0c/260c6ae16bce31c8f8c95daddd9f4a1c.jpg',\n",
       " 'media/cache/3e/ef/3eef99c9d9adef34639f510662022830.jpg',\n",
       " 'media/cache/32/51/3251cf3a3412f53f339e42cac2134093.jpg',\n",
       " 'media/cache/be/a5/bea5697f2534a2f86a3ef27b5a8c12a6.jpg',\n",
       " 'media/cache/68/33/68339b4c9bc034267e1da611ab3b34f8.jpg',\n",
       " 'media/cache/92/27/92274a95b7c251fea59a2b8a78275ab4.jpg',\n",
       " 'media/cache/3d/54/3d54940e57e662c4dd1f3ff00c78cc64.jpg',\n",
       " 'media/cache/66/88/66883b91f6804b2323c8369331cb7dd1.jpg',\n",
       " 'media/cache/58/46/5846057e28022268153beff6d352b06c.jpg',\n",
       " 'media/cache/be/f4/bef44da28c98f905a3ebec0b87be8530.jpg',\n",
       " 'media/cache/10/48/1048f63d3b5061cd2f424d20b3f9b666.jpg',\n",
       " 'media/cache/5b/88/5b88c52633f53cacf162c15f4f823153.jpg',\n",
       " 'media/cache/94/b1/94b1b8b244bce9677c2f29ccc890d4d2.jpg',\n",
       " 'media/cache/81/c4/81c4a973364e17d01f217e1188253d5e.jpg',\n",
       " 'media/cache/54/60/54607fe8945897cdcced0044103b10b6.jpg',\n",
       " 'media/cache/55/33/553310a7162dfbc2c6d19a84da0df9e1.jpg',\n",
       " 'media/cache/09/a3/09a3aef48557576e1a85ba7efea8ecb7.jpg',\n",
       " 'media/cache/0b/bc/0bbcd0a6f4bcd81ccb1049a52736406e.jpg',\n",
       " 'media/cache/27/a5/27a53d0bb95bdd88288eaf66c9230d7e.jpg']"
      ]
     },
     "execution_count": 33,
     "metadata": {},
     "output_type": "execute_result"
    }
   ],
   "source": [
    "ims = book_soup.find_all('img')\n",
    "images = [im['src'] for im in ims]\n",
    "images"
   ]
  },
  {
   "cell_type": "markdown",
   "id": "f5883cd3",
   "metadata": {},
   "source": [
    "### Part F"
   ]
  },
  {
   "cell_type": "code",
   "execution_count": 49,
   "id": "3f5be84c",
   "metadata": {},
   "outputs": [
    {
     "data": {
      "text/html": [
       "<div>\n",
       "<style scoped>\n",
       "    .dataframe tbody tr th:only-of-type {\n",
       "        vertical-align: middle;\n",
       "    }\n",
       "\n",
       "    .dataframe tbody tr th {\n",
       "        vertical-align: top;\n",
       "    }\n",
       "\n",
       "    .dataframe thead th {\n",
       "        text-align: right;\n",
       "    }\n",
       "</style>\n",
       "<table border=\"1\" class=\"dataframe\">\n",
       "  <thead>\n",
       "    <tr style=\"text-align: right;\">\n",
       "      <th></th>\n",
       "      <th>Title</th>\n",
       "      <th>Price</th>\n",
       "      <th>Rating</th>\n",
       "      <th>Thumbnail</th>\n",
       "    </tr>\n",
       "  </thead>\n",
       "  <tbody>\n",
       "    <tr>\n",
       "      <th>0</th>\n",
       "      <td>A Light in the Attic</td>\n",
       "      <td>51.77</td>\n",
       "      <td>Three</td>\n",
       "      <td>media/cache/2c/da/2cdad67c44b002e7ead0cc35693c...</td>\n",
       "    </tr>\n",
       "    <tr>\n",
       "      <th>1</th>\n",
       "      <td>Tipping the Velvet</td>\n",
       "      <td>53.74</td>\n",
       "      <td>One</td>\n",
       "      <td>media/cache/26/0c/260c6ae16bce31c8f8c95daddd9f...</td>\n",
       "    </tr>\n",
       "    <tr>\n",
       "      <th>2</th>\n",
       "      <td>Soumission</td>\n",
       "      <td>50.10</td>\n",
       "      <td>One</td>\n",
       "      <td>media/cache/3e/ef/3eef99c9d9adef34639f51066202...</td>\n",
       "    </tr>\n",
       "    <tr>\n",
       "      <th>3</th>\n",
       "      <td>Sharp Objects</td>\n",
       "      <td>47.82</td>\n",
       "      <td>Four</td>\n",
       "      <td>media/cache/32/51/3251cf3a3412f53f339e42cac213...</td>\n",
       "    </tr>\n",
       "    <tr>\n",
       "      <th>4</th>\n",
       "      <td>Sapiens: A Brief History of Humankind</td>\n",
       "      <td>54.23</td>\n",
       "      <td>Five</td>\n",
       "      <td>media/cache/be/a5/bea5697f2534a2f86a3ef27b5a8c...</td>\n",
       "    </tr>\n",
       "    <tr>\n",
       "      <th>5</th>\n",
       "      <td>The Requiem Red</td>\n",
       "      <td>22.65</td>\n",
       "      <td>One</td>\n",
       "      <td>media/cache/68/33/68339b4c9bc034267e1da611ab3b...</td>\n",
       "    </tr>\n",
       "    <tr>\n",
       "      <th>6</th>\n",
       "      <td>The Dirty Little Secrets of Getting Your Dream...</td>\n",
       "      <td>33.34</td>\n",
       "      <td>Four</td>\n",
       "      <td>media/cache/92/27/92274a95b7c251fea59a2b8a7827...</td>\n",
       "    </tr>\n",
       "    <tr>\n",
       "      <th>7</th>\n",
       "      <td>The Coming Woman: A Novel Based on the Life of...</td>\n",
       "      <td>17.93</td>\n",
       "      <td>Three</td>\n",
       "      <td>media/cache/3d/54/3d54940e57e662c4dd1f3ff00c78...</td>\n",
       "    </tr>\n",
       "    <tr>\n",
       "      <th>8</th>\n",
       "      <td>The Boys in the Boat: Nine Americans and Their...</td>\n",
       "      <td>22.60</td>\n",
       "      <td>Four</td>\n",
       "      <td>media/cache/66/88/66883b91f6804b2323c8369331cb...</td>\n",
       "    </tr>\n",
       "    <tr>\n",
       "      <th>9</th>\n",
       "      <td>The Black Maria</td>\n",
       "      <td>52.15</td>\n",
       "      <td>One</td>\n",
       "      <td>media/cache/58/46/5846057e28022268153beff6d352...</td>\n",
       "    </tr>\n",
       "    <tr>\n",
       "      <th>10</th>\n",
       "      <td>Starving Hearts (Triangular Trade Trilogy, #1)</td>\n",
       "      <td>13.99</td>\n",
       "      <td>Two</td>\n",
       "      <td>media/cache/be/f4/bef44da28c98f905a3ebec0b87be...</td>\n",
       "    </tr>\n",
       "    <tr>\n",
       "      <th>11</th>\n",
       "      <td>Shakespeare's Sonnets</td>\n",
       "      <td>20.66</td>\n",
       "      <td>Four</td>\n",
       "      <td>media/cache/10/48/1048f63d3b5061cd2f424d20b3f9...</td>\n",
       "    </tr>\n",
       "    <tr>\n",
       "      <th>12</th>\n",
       "      <td>Set Me Free</td>\n",
       "      <td>17.46</td>\n",
       "      <td>Five</td>\n",
       "      <td>media/cache/5b/88/5b88c52633f53cacf162c15f4f82...</td>\n",
       "    </tr>\n",
       "    <tr>\n",
       "      <th>13</th>\n",
       "      <td>Scott Pilgrim's Precious Little Life (Scott Pi...</td>\n",
       "      <td>52.29</td>\n",
       "      <td>Five</td>\n",
       "      <td>media/cache/94/b1/94b1b8b244bce9677c2f29ccc890...</td>\n",
       "    </tr>\n",
       "    <tr>\n",
       "      <th>14</th>\n",
       "      <td>Rip it Up and Start Again</td>\n",
       "      <td>35.02</td>\n",
       "      <td>Five</td>\n",
       "      <td>media/cache/81/c4/81c4a973364e17d01f217e118825...</td>\n",
       "    </tr>\n",
       "    <tr>\n",
       "      <th>15</th>\n",
       "      <td>Our Band Could Be Your Life: Scenes from the A...</td>\n",
       "      <td>57.25</td>\n",
       "      <td>Three</td>\n",
       "      <td>media/cache/54/60/54607fe8945897cdcced0044103b...</td>\n",
       "    </tr>\n",
       "    <tr>\n",
       "      <th>16</th>\n",
       "      <td>Olio</td>\n",
       "      <td>23.88</td>\n",
       "      <td>One</td>\n",
       "      <td>media/cache/55/33/553310a7162dfbc2c6d19a84da0d...</td>\n",
       "    </tr>\n",
       "    <tr>\n",
       "      <th>17</th>\n",
       "      <td>Mesaerion: The Best Science Fiction Stories 18...</td>\n",
       "      <td>37.59</td>\n",
       "      <td>One</td>\n",
       "      <td>media/cache/09/a3/09a3aef48557576e1a85ba7efea8...</td>\n",
       "    </tr>\n",
       "    <tr>\n",
       "      <th>18</th>\n",
       "      <td>Libertarianism for Beginners</td>\n",
       "      <td>51.33</td>\n",
       "      <td>Two</td>\n",
       "      <td>media/cache/0b/bc/0bbcd0a6f4bcd81ccb1049a52736...</td>\n",
       "    </tr>\n",
       "    <tr>\n",
       "      <th>19</th>\n",
       "      <td>It's Only the Himalayas</td>\n",
       "      <td>45.17</td>\n",
       "      <td>Two</td>\n",
       "      <td>media/cache/27/a5/27a53d0bb95bdd88288eaf66c923...</td>\n",
       "    </tr>\n",
       "  </tbody>\n",
       "</table>\n",
       "</div>"
      ],
      "text/plain": [
       "                                                Title  Price Rating  \\\n",
       "0                                A Light in the Attic  51.77  Three   \n",
       "1                                  Tipping the Velvet  53.74    One   \n",
       "2                                          Soumission  50.10    One   \n",
       "3                                       Sharp Objects  47.82   Four   \n",
       "4               Sapiens: A Brief History of Humankind  54.23   Five   \n",
       "5                                     The Requiem Red  22.65    One   \n",
       "6   The Dirty Little Secrets of Getting Your Dream...  33.34   Four   \n",
       "7   The Coming Woman: A Novel Based on the Life of...  17.93  Three   \n",
       "8   The Boys in the Boat: Nine Americans and Their...  22.60   Four   \n",
       "9                                     The Black Maria  52.15    One   \n",
       "10     Starving Hearts (Triangular Trade Trilogy, #1)  13.99    Two   \n",
       "11                              Shakespeare's Sonnets  20.66   Four   \n",
       "12                                        Set Me Free  17.46   Five   \n",
       "13  Scott Pilgrim's Precious Little Life (Scott Pi...  52.29   Five   \n",
       "14                          Rip it Up and Start Again  35.02   Five   \n",
       "15  Our Band Could Be Your Life: Scenes from the A...  57.25  Three   \n",
       "16                                               Olio  23.88    One   \n",
       "17  Mesaerion: The Best Science Fiction Stories 18...  37.59    One   \n",
       "18                       Libertarianism for Beginners  51.33    Two   \n",
       "19                            It's Only the Himalayas  45.17    Two   \n",
       "\n",
       "                                            Thumbnail  \n",
       "0   media/cache/2c/da/2cdad67c44b002e7ead0cc35693c...  \n",
       "1   media/cache/26/0c/260c6ae16bce31c8f8c95daddd9f...  \n",
       "2   media/cache/3e/ef/3eef99c9d9adef34639f51066202...  \n",
       "3   media/cache/32/51/3251cf3a3412f53f339e42cac213...  \n",
       "4   media/cache/be/a5/bea5697f2534a2f86a3ef27b5a8c...  \n",
       "5   media/cache/68/33/68339b4c9bc034267e1da611ab3b...  \n",
       "6   media/cache/92/27/92274a95b7c251fea59a2b8a7827...  \n",
       "7   media/cache/3d/54/3d54940e57e662c4dd1f3ff00c78...  \n",
       "8   media/cache/66/88/66883b91f6804b2323c8369331cb...  \n",
       "9   media/cache/58/46/5846057e28022268153beff6d352...  \n",
       "10  media/cache/be/f4/bef44da28c98f905a3ebec0b87be...  \n",
       "11  media/cache/10/48/1048f63d3b5061cd2f424d20b3f9...  \n",
       "12  media/cache/5b/88/5b88c52633f53cacf162c15f4f82...  \n",
       "13  media/cache/94/b1/94b1b8b244bce9677c2f29ccc890...  \n",
       "14  media/cache/81/c4/81c4a973364e17d01f217e118825...  \n",
       "15  media/cache/54/60/54607fe8945897cdcced0044103b...  \n",
       "16  media/cache/55/33/553310a7162dfbc2c6d19a84da0d...  \n",
       "17  media/cache/09/a3/09a3aef48557576e1a85ba7efea8...  \n",
       "18  media/cache/0b/bc/0bbcd0a6f4bcd81ccb1049a52736...  \n",
       "19  media/cache/27/a5/27a53d0bb95bdd88288eaf66c923...  "
      ]
     },
     "execution_count": 49,
     "metadata": {},
     "output_type": "execute_result"
    }
   ],
   "source": [
    "books = pd.DataFrame({'Title':titles,\n",
    "                      'Price':prices,\n",
    "                      'Rating':ratings,\n",
    "                      'Thumbnail':images})\n",
    "books"
   ]
  },
  {
   "cell_type": "markdown",
   "id": "8ca77521",
   "metadata": {},
   "source": [
    "### Part G"
   ]
  },
  {
   "cell_type": "code",
   "execution_count": 37,
   "id": "e362078d",
   "metadata": {},
   "outputs": [],
   "source": [
    "def scrape_books(url, headers):\n",
    "    r = requests.get(url,headers=headers)\n",
    "    \n",
    "    book_soup = BeautifulSoup(r.text,'html.parser')\n",
    "\n",
    "    ts = book_soup.find_all('a', attrs={'title':True})\n",
    "    titles = [t['title'] for t in ts]\n",
    "\n",
    "    ps = book_soup.find_all('p', attrs={'class':'price_color'})\n",
    "    prices = [p.text for p in ps]\n",
    "    prices = [s.replace('Â£', '') for s in prices] \n",
    "\n",
    "    rs = book_soup.find_all('p', attrs={'class':'star-rating'})\n",
    "    ratings = [r['class'][1] for r in rs]\n",
    "    \n",
    "    ims = book_soup.find_all('img')\n",
    "    images = [im['src'] for im in ims]\n",
    "\n",
    "    books = pd.DataFrame({'Title':titles,\n",
    "                          'Price':prices,\n",
    "                          'Rating':ratings,\n",
    "                          'Thumbnail':images})\n",
    "    \n",
    "    return books\n"
   ]
  },
  {
   "cell_type": "markdown",
   "id": "803ccd89",
   "metadata": {},
   "source": [
    "### Part H"
   ]
  },
  {
   "cell_type": "code",
   "execution_count": 34,
   "id": "602a7bc7",
   "metadata": {},
   "outputs": [],
   "source": [
    "all_books = pd.DataFrame()\n",
    "\n",
    "for i in range(1,51):\n",
    "    url = f'http://books.toscrape.com/catalogue/page-{str(i)}.html'\n",
    "    page = scrape_books(url,headers)\n",
    "    all_books = pd.concat([all_books,page], ignore_index=True)"
   ]
  },
  {
   "cell_type": "code",
   "execution_count": 35,
   "id": "988eeefb",
   "metadata": {},
   "outputs": [
    {
     "data": {
      "text/plain": [
       "1000"
      ]
     },
     "execution_count": 35,
     "metadata": {},
     "output_type": "execute_result"
    }
   ],
   "source": [
    "len(all_books) # should be 1000"
   ]
  },
  {
   "cell_type": "code",
   "execution_count": 36,
   "id": "f444a9be",
   "metadata": {},
   "outputs": [
    {
     "data": {
      "text/html": [
       "<div>\n",
       "<style scoped>\n",
       "    .dataframe tbody tr th:only-of-type {\n",
       "        vertical-align: middle;\n",
       "    }\n",
       "\n",
       "    .dataframe tbody tr th {\n",
       "        vertical-align: top;\n",
       "    }\n",
       "\n",
       "    .dataframe thead th {\n",
       "        text-align: right;\n",
       "    }\n",
       "</style>\n",
       "<table border=\"1\" class=\"dataframe\">\n",
       "  <thead>\n",
       "    <tr style=\"text-align: right;\">\n",
       "      <th></th>\n",
       "      <th>Title</th>\n",
       "      <th>Price</th>\n",
       "      <th>Rating</th>\n",
       "      <th>Thumbnail</th>\n",
       "    </tr>\n",
       "  </thead>\n",
       "  <tbody>\n",
       "    <tr>\n",
       "      <th>0</th>\n",
       "      <td>A Light in the Attic</td>\n",
       "      <td>51.77</td>\n",
       "      <td>Three</td>\n",
       "      <td>../media/cache/2c/da/2cdad67c44b002e7ead0cc356...</td>\n",
       "    </tr>\n",
       "    <tr>\n",
       "      <th>1</th>\n",
       "      <td>Tipping the Velvet</td>\n",
       "      <td>53.74</td>\n",
       "      <td>One</td>\n",
       "      <td>../media/cache/26/0c/260c6ae16bce31c8f8c95dadd...</td>\n",
       "    </tr>\n",
       "    <tr>\n",
       "      <th>2</th>\n",
       "      <td>Soumission</td>\n",
       "      <td>50.10</td>\n",
       "      <td>One</td>\n",
       "      <td>../media/cache/3e/ef/3eef99c9d9adef34639f51066...</td>\n",
       "    </tr>\n",
       "    <tr>\n",
       "      <th>3</th>\n",
       "      <td>Sharp Objects</td>\n",
       "      <td>47.82</td>\n",
       "      <td>Four</td>\n",
       "      <td>../media/cache/32/51/3251cf3a3412f53f339e42cac...</td>\n",
       "    </tr>\n",
       "    <tr>\n",
       "      <th>4</th>\n",
       "      <td>Sapiens: A Brief History of Humankind</td>\n",
       "      <td>54.23</td>\n",
       "      <td>Five</td>\n",
       "      <td>../media/cache/be/a5/bea5697f2534a2f86a3ef27b5...</td>\n",
       "    </tr>\n",
       "  </tbody>\n",
       "</table>\n",
       "</div>"
      ],
      "text/plain": [
       "                                   Title  Price Rating  \\\n",
       "0                   A Light in the Attic  51.77  Three   \n",
       "1                     Tipping the Velvet  53.74    One   \n",
       "2                             Soumission  50.10    One   \n",
       "3                          Sharp Objects  47.82   Four   \n",
       "4  Sapiens: A Brief History of Humankind  54.23   Five   \n",
       "\n",
       "                                           Thumbnail  \n",
       "0  ../media/cache/2c/da/2cdad67c44b002e7ead0cc356...  \n",
       "1  ../media/cache/26/0c/260c6ae16bce31c8f8c95dadd...  \n",
       "2  ../media/cache/3e/ef/3eef99c9d9adef34639f51066...  \n",
       "3  ../media/cache/32/51/3251cf3a3412f53f339e42cac...  \n",
       "4  ../media/cache/be/a5/bea5697f2534a2f86a3ef27b5...  "
      ]
     },
     "execution_count": 36,
     "metadata": {},
     "output_type": "execute_result"
    }
   ],
   "source": [
    "all_books.head()"
   ]
  },
  {
   "cell_type": "code",
   "execution_count": 27,
   "id": "98fa8755",
   "metadata": {},
   "outputs": [
    {
     "data": {
      "text/html": [
       "<div>\n",
       "<style scoped>\n",
       "    .dataframe tbody tr th:only-of-type {\n",
       "        vertical-align: middle;\n",
       "    }\n",
       "\n",
       "    .dataframe tbody tr th {\n",
       "        vertical-align: top;\n",
       "    }\n",
       "\n",
       "    .dataframe thead th {\n",
       "        text-align: right;\n",
       "    }\n",
       "</style>\n",
       "<table border=\"1\" class=\"dataframe\">\n",
       "  <thead>\n",
       "    <tr style=\"text-align: right;\">\n",
       "      <th></th>\n",
       "      <th>Title</th>\n",
       "      <th>Price</th>\n",
       "      <th>Rating</th>\n",
       "      <th>Thumbnail</th>\n",
       "    </tr>\n",
       "  </thead>\n",
       "  <tbody>\n",
       "    <tr>\n",
       "      <th>995</th>\n",
       "      <td>Alice in Wonderland (Alice's Adventures in Won...</td>\n",
       "      <td>55.53</td>\n",
       "      <td>One</td>\n",
       "      <td>../media/cache/96/ee/96ee77d71a31b7694dac6855f...</td>\n",
       "    </tr>\n",
       "    <tr>\n",
       "      <th>996</th>\n",
       "      <td>Ajin: Demi-Human, Volume 1 (Ajin: Demi-Human #1)</td>\n",
       "      <td>57.06</td>\n",
       "      <td>Four</td>\n",
       "      <td>../media/cache/09/7c/097cb5ecc6fb3fbe1690cf0cb...</td>\n",
       "    </tr>\n",
       "    <tr>\n",
       "      <th>997</th>\n",
       "      <td>A Spy's Devotion (The Regency Spies of London #1)</td>\n",
       "      <td>16.97</td>\n",
       "      <td>Five</td>\n",
       "      <td>../media/cache/1b/5f/1b5ff86f3c75e51e24c573d3f...</td>\n",
       "    </tr>\n",
       "    <tr>\n",
       "      <th>998</th>\n",
       "      <td>1st to Die (Women's Murder Club #1)</td>\n",
       "      <td>53.98</td>\n",
       "      <td>One</td>\n",
       "      <td>../media/cache/2b/41/2b4161c5b72a4ae386b644682...</td>\n",
       "    </tr>\n",
       "    <tr>\n",
       "      <th>999</th>\n",
       "      <td>1,000 Places to See Before You Die</td>\n",
       "      <td>26.08</td>\n",
       "      <td>Five</td>\n",
       "      <td>../media/cache/d7/0f/d70f7edd92705c45a82118c3f...</td>\n",
       "    </tr>\n",
       "  </tbody>\n",
       "</table>\n",
       "</div>"
      ],
      "text/plain": [
       "                                                 Title  Price Rating  \\\n",
       "995  Alice in Wonderland (Alice's Adventures in Won...  55.53    One   \n",
       "996   Ajin: Demi-Human, Volume 1 (Ajin: Demi-Human #1)  57.06   Four   \n",
       "997  A Spy's Devotion (The Regency Spies of London #1)  16.97   Five   \n",
       "998                1st to Die (Women's Murder Club #1)  53.98    One   \n",
       "999                 1,000 Places to See Before You Die  26.08   Five   \n",
       "\n",
       "                                             Thumbnail  \n",
       "995  ../media/cache/96/ee/96ee77d71a31b7694dac6855f...  \n",
       "996  ../media/cache/09/7c/097cb5ecc6fb3fbe1690cf0cb...  \n",
       "997  ../media/cache/1b/5f/1b5ff86f3c75e51e24c573d3f...  \n",
       "998  ../media/cache/2b/41/2b4161c5b72a4ae386b644682...  \n",
       "999  ../media/cache/d7/0f/d70f7edd92705c45a82118c3f...  "
      ]
     },
     "execution_count": 27,
     "metadata": {},
     "output_type": "execute_result"
    }
   ],
   "source": [
    "all_books.tail()"
   ]
  }
 ],
 "metadata": {
  "kernelspec": {
   "display_name": "ds6001",
   "language": "python",
   "name": "python3"
  },
  "language_info": {
   "codemirror_mode": {
    "name": "ipython",
    "version": 3
   },
   "file_extension": ".py",
   "mimetype": "text/x-python",
   "name": "python",
   "nbconvert_exporter": "python",
   "pygments_lexer": "ipython3",
   "version": "3.13.5"
  }
 },
 "nbformat": 4,
 "nbformat_minor": 5
}
