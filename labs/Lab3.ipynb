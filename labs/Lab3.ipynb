{
 "cells": [
  {
   "cell_type": "markdown",
   "id": "b234b8b2",
   "metadata": {},
   "source": [
    "# **DS 6001: Lab Assignment 3**\n",
    "## Randa Ampah"
   ]
  },
  {
   "cell_type": "code",
   "execution_count": 1,
   "id": "ab462af5",
   "metadata": {},
   "outputs": [],
   "source": [
    "import numpy as np\n",
    "import pandas as pd\n",
    "import requests\n",
    "import json"
   ]
  },
  {
   "cell_type": "markdown",
   "id": "feee59d7",
   "metadata": {},
   "source": [
    "## *Problem 1*"
   ]
  },
  {
   "cell_type": "markdown",
   "id": "313b8e1e",
   "metadata": {},
   "source": [
    "CSV files take up less memory usually because the variable values are separated only by commas, rather than formatted in nested lists and dictionaries as JSON files are. A JSON file could possibly take less memory than a CSV if the data being stored was made up heavily of nested values."
   ]
  },
  {
   "cell_type": "markdown",
   "id": "5e7adfa9",
   "metadata": {},
   "source": [
    "## *Problem 2*"
   ]
  },
  {
   "cell_type": "markdown",
   "id": "aa9d8473",
   "metadata": {},
   "source": [
    "### Part A"
   ]
  },
  {
   "cell_type": "code",
   "execution_count": 2,
   "id": "3d0d470f",
   "metadata": {},
   "outputs": [],
   "source": [
    "#\"user-agent\": \"Mozilla/5.0 (Macintosh; Intel Mac OS X 10_15_7) \n",
    "# AppleWebKit/537.36 (KHTML, like Gecko) Chrome/137.0.0.0 Safari/537.36\""
   ]
  },
  {
   "cell_type": "markdown",
   "id": "109afaeb",
   "metadata": {},
   "source": [
    "The `Macintosh; Intel Mac OS X 10_15_7` part of the user agent identifies the operating system of my computer, which is MacOS. The `Chrome/137.0.0.0 Safari/` part identitfies my web browser which is Chrome"
   ]
  },
  {
   "cell_type": "markdown",
   "id": "51342d2a",
   "metadata": {},
   "source": [
    "### Part B"
   ]
  },
  {
   "cell_type": "code",
   "execution_count": 3,
   "id": "d7822039",
   "metadata": {},
   "outputs": [
    {
     "data": {
      "text/plain": [
       "{'user-agent': 'python-requests/2.32.5'}"
      ]
     },
     "execution_count": 3,
     "metadata": {},
     "output_type": "execute_result"
    }
   ],
   "source": [
    "user_url =  requests.get('https://httpbin.org/user-agent')\n",
    "user_url.json()"
   ]
  },
  {
   "cell_type": "markdown",
   "id": "717876d0",
   "metadata": {},
   "source": [
    "### Part C"
   ]
  },
  {
   "cell_type": "code",
   "execution_count": 4,
   "id": "efbf4f11",
   "metadata": {},
   "outputs": [],
   "source": [
    "useragent = user_url.json()['user-agent']\n",
    "myheaders = {\"User-Agent\": useragent }"
   ]
  },
  {
   "cell_type": "markdown",
   "id": "7909b67e",
   "metadata": {},
   "source": [
    "### Part D"
   ]
  },
  {
   "cell_type": "markdown",
   "id": "16d39d29",
   "metadata": {},
   "source": [
    "We chose to look at the robot.txt file for Amazon. The disallowed user agent we chose was `/gp/customer-reviews/write-a-review.html`. We believe that this user agent may have been banned to prevent people from creating fake reviews for products in order to protect the integrity of the review system on the website."
   ]
  },
  {
   "cell_type": "markdown",
   "id": "faa2f9bc",
   "metadata": {},
   "source": [
    "## *Problem 3*"
   ]
  },
  {
   "cell_type": "markdown",
   "id": "e224c4bd",
   "metadata": {},
   "source": [
    "### Part A"
   ]
  },
  {
   "cell_type": "code",
   "execution_count": 5,
   "id": "0551fab2",
   "metadata": {},
   "outputs": [],
   "source": [
    "nba_raw = requests.get('https://stats.nba.com/js/data/sportvu/2015/shootingTeamData.json', \n",
    "                       headers=myheaders)\n",
    "\n",
    "#nba_raw.json()"
   ]
  },
  {
   "cell_type": "markdown",
   "id": "89feee97",
   "metadata": {},
   "source": [
    "### Part B"
   ]
  },
  {
   "cell_type": "markdown",
   "id": "e506825c",
   "metadata": {},
   "source": [
    "The path to the team by team data is resultsSets, O, rowSet."
   ]
  },
  {
   "cell_type": "markdown",
   "id": "f1dfcae7",
   "metadata": {},
   "source": [
    "### Part C"
   ]
  },
  {
   "cell_type": "code",
   "execution_count": 6,
   "id": "0e4c5536",
   "metadata": {},
   "outputs": [
    {
     "data": {
      "text/html": [
       "<div>\n",
       "<style scoped>\n",
       "    .dataframe tbody tr th:only-of-type {\n",
       "        vertical-align: middle;\n",
       "    }\n",
       "\n",
       "    .dataframe tbody tr th {\n",
       "        vertical-align: top;\n",
       "    }\n",
       "\n",
       "    .dataframe thead th {\n",
       "        text-align: right;\n",
       "    }\n",
       "</style>\n",
       "<table border=\"1\" class=\"dataframe\">\n",
       "  <thead>\n",
       "    <tr style=\"text-align: right;\">\n",
       "      <th></th>\n",
       "      <th>0</th>\n",
       "      <th>1</th>\n",
       "      <th>2</th>\n",
       "      <th>3</th>\n",
       "      <th>4</th>\n",
       "      <th>5</th>\n",
       "      <th>6</th>\n",
       "      <th>7</th>\n",
       "      <th>8</th>\n",
       "      <th>9</th>\n",
       "      <th>...</th>\n",
       "      <th>23</th>\n",
       "      <th>24</th>\n",
       "      <th>25</th>\n",
       "      <th>26</th>\n",
       "      <th>27</th>\n",
       "      <th>28</th>\n",
       "      <th>29</th>\n",
       "      <th>30</th>\n",
       "      <th>31</th>\n",
       "      <th>32</th>\n",
       "    </tr>\n",
       "  </thead>\n",
       "  <tbody>\n",
       "    <tr>\n",
       "      <th>0</th>\n",
       "      <td>1610612744</td>\n",
       "      <td>Golden State</td>\n",
       "      <td>Warriors</td>\n",
       "      <td>GSW</td>\n",
       "      <td></td>\n",
       "      <td>82</td>\n",
       "      <td>48.7</td>\n",
       "      <td>114.9</td>\n",
       "      <td>14.9</td>\n",
       "      <td>0.498</td>\n",
       "      <td>...</td>\n",
       "      <td>0.478</td>\n",
       "      <td>21.2</td>\n",
       "      <td>42.5</td>\n",
       "      <td>0.497</td>\n",
       "      <td>2.3</td>\n",
       "      <td>6.3</td>\n",
       "      <td>0.363</td>\n",
       "      <td>10.8</td>\n",
       "      <td>25.3</td>\n",
       "      <td>0.429</td>\n",
       "    </tr>\n",
       "    <tr>\n",
       "      <th>1</th>\n",
       "      <td>1610612759</td>\n",
       "      <td>San Antonio</td>\n",
       "      <td>Spurs</td>\n",
       "      <td>SAS</td>\n",
       "      <td></td>\n",
       "      <td>82</td>\n",
       "      <td>48.3</td>\n",
       "      <td>103.5</td>\n",
       "      <td>14.8</td>\n",
       "      <td>0.481</td>\n",
       "      <td>...</td>\n",
       "      <td>0.506</td>\n",
       "      <td>18.3</td>\n",
       "      <td>39.8</td>\n",
       "      <td>0.460</td>\n",
       "      <td>0.9</td>\n",
       "      <td>2.6</td>\n",
       "      <td>0.341</td>\n",
       "      <td>6.1</td>\n",
       "      <td>15.9</td>\n",
       "      <td>0.381</td>\n",
       "    </tr>\n",
       "    <tr>\n",
       "      <th>2</th>\n",
       "      <td>1610612739</td>\n",
       "      <td>Cleveland</td>\n",
       "      <td>Cavaliers</td>\n",
       "      <td>CLE</td>\n",
       "      <td></td>\n",
       "      <td>82</td>\n",
       "      <td>48.7</td>\n",
       "      <td>104.3</td>\n",
       "      <td>16.9</td>\n",
       "      <td>0.481</td>\n",
       "      <td>...</td>\n",
       "      <td>0.473</td>\n",
       "      <td>18.2</td>\n",
       "      <td>40.7</td>\n",
       "      <td>0.447</td>\n",
       "      <td>1.7</td>\n",
       "      <td>5.7</td>\n",
       "      <td>0.299</td>\n",
       "      <td>9.0</td>\n",
       "      <td>23.9</td>\n",
       "      <td>0.378</td>\n",
       "    </tr>\n",
       "    <tr>\n",
       "      <th>3</th>\n",
       "      <td>1610612746</td>\n",
       "      <td>Los Angeles</td>\n",
       "      <td>Clippers</td>\n",
       "      <td>LAC</td>\n",
       "      <td></td>\n",
       "      <td>82</td>\n",
       "      <td>48.6</td>\n",
       "      <td>104.5</td>\n",
       "      <td>15.0</td>\n",
       "      <td>0.497</td>\n",
       "      <td>...</td>\n",
       "      <td>0.480</td>\n",
       "      <td>18.9</td>\n",
       "      <td>42.0</td>\n",
       "      <td>0.450</td>\n",
       "      <td>2.0</td>\n",
       "      <td>6.0</td>\n",
       "      <td>0.334</td>\n",
       "      <td>7.7</td>\n",
       "      <td>20.8</td>\n",
       "      <td>0.373</td>\n",
       "    </tr>\n",
       "    <tr>\n",
       "      <th>4</th>\n",
       "      <td>1610612760</td>\n",
       "      <td>Oklahoma City</td>\n",
       "      <td>Thunder</td>\n",
       "      <td>OKC</td>\n",
       "      <td></td>\n",
       "      <td>82</td>\n",
       "      <td>48.6</td>\n",
       "      <td>110.2</td>\n",
       "      <td>16.1</td>\n",
       "      <td>0.480</td>\n",
       "      <td>...</td>\n",
       "      <td>0.497</td>\n",
       "      <td>17.5</td>\n",
       "      <td>38.7</td>\n",
       "      <td>0.451</td>\n",
       "      <td>1.6</td>\n",
       "      <td>5.1</td>\n",
       "      <td>0.321</td>\n",
       "      <td>6.6</td>\n",
       "      <td>18.6</td>\n",
       "      <td>0.356</td>\n",
       "    </tr>\n",
       "  </tbody>\n",
       "</table>\n",
       "<p>5 rows × 33 columns</p>\n",
       "</div>"
      ],
      "text/plain": [
       "           0              1          2    3  4   5     6      7     8      9   \\\n",
       "0  1610612744   Golden State   Warriors  GSW     82  48.7  114.9  14.9  0.498   \n",
       "1  1610612759    San Antonio      Spurs  SAS     82  48.3  103.5  14.8  0.481   \n",
       "2  1610612739      Cleveland  Cavaliers  CLE     82  48.7  104.3  16.9  0.481   \n",
       "3  1610612746    Los Angeles   Clippers  LAC     82  48.6  104.5  15.0  0.497   \n",
       "4  1610612760  Oklahoma City    Thunder  OKC     82  48.6  110.2  16.1  0.480   \n",
       "\n",
       "   ...     23    24    25     26   27   28     29    30    31     32  \n",
       "0  ...  0.478  21.2  42.5  0.497  2.3  6.3  0.363  10.8  25.3  0.429  \n",
       "1  ...  0.506  18.3  39.8  0.460  0.9  2.6  0.341   6.1  15.9  0.381  \n",
       "2  ...  0.473  18.2  40.7  0.447  1.7  5.7  0.299   9.0  23.9  0.378  \n",
       "3  ...  0.480  18.9  42.0  0.450  2.0  6.0  0.334   7.7  20.8  0.373  \n",
       "4  ...  0.497  17.5  38.7  0.451  1.6  5.1  0.321   6.6  18.6  0.356  \n",
       "\n",
       "[5 rows x 33 columns]"
      ]
     },
     "execution_count": 6,
     "metadata": {},
     "output_type": "execute_result"
    }
   ],
   "source": [
    "nba = pd.json_normalize(nba_raw.json()['resultSets'][0], record_path=['rowSet'])\n",
    "nba.head()"
   ]
  },
  {
   "cell_type": "markdown",
   "id": "9ff6a34e",
   "metadata": {},
   "source": [
    "### Part D"
   ]
  },
  {
   "cell_type": "markdown",
   "id": "fc9eb6dc",
   "metadata": {},
   "source": [
    "The file path to the headers is resultSets, 0, headers."
   ]
  },
  {
   "cell_type": "code",
   "execution_count": 7,
   "id": "fb15f1ae",
   "metadata": {},
   "outputs": [],
   "source": [
    "cols = nba_raw.json()['resultSets'][0]['headers']\n",
    "nba.columns = cols"
   ]
  },
  {
   "cell_type": "markdown",
   "id": "7f7e8320",
   "metadata": {},
   "source": [
    "### Part E"
   ]
  },
  {
   "cell_type": "code",
   "execution_count": 8,
   "id": "8fd172e2",
   "metadata": {},
   "outputs": [],
   "source": [
    "nba.to_json('/Users/randap/Desktop/MSDS/Fall25/DS6001/labs/nba.json', orient=\"records\")"
   ]
  },
  {
   "cell_type": "markdown",
   "id": "a093cfa9",
   "metadata": {},
   "source": [
    "## *Problem 4*"
   ]
  },
  {
   "cell_type": "code",
   "execution_count": 9,
   "id": "19163acb",
   "metadata": {},
   "outputs": [
    {
     "data": {
      "text/plain": [
       "'https://api.nasa.gov/neo/rest/v1/feed?start_date=2025-09-11&end_date=2025-09-11&api_key=DEMO_KEY'"
      ]
     },
     "execution_count": 9,
     "metadata": {},
     "output_type": "execute_result"
    }
   ],
   "source": [
    "date = '2025-09-11'\n",
    "url = f'https://api.nasa.gov/neo/rest/v1/feed?start_date={date}&end_date={date}&api_key=DEMO_KEY'\n",
    "url"
   ]
  },
  {
   "cell_type": "code",
   "execution_count": 10,
   "id": "dd10e219",
   "metadata": {},
   "outputs": [],
   "source": [
    "nasa_raw = requests.get('https://api.nasa.gov/neo/rest/v1/feed?start_date=2025-09-11&end_date=2025-09-11&api_key=DEMO_KEY',\n",
    "                        headers=myheaders)\n",
    "nasa_json = json.loads(nasa_raw.text)\n",
    "nasa = pd.json_normalize(nasa_json, record_path=['near_earth_objects',date])"
   ]
  },
  {
   "cell_type": "code",
   "execution_count": 11,
   "id": "8dcaa903",
   "metadata": {},
   "outputs": [
    {
     "data": {
      "text/html": [
       "<div>\n",
       "<style scoped>\n",
       "    .dataframe tbody tr th:only-of-type {\n",
       "        vertical-align: middle;\n",
       "    }\n",
       "\n",
       "    .dataframe tbody tr th {\n",
       "        vertical-align: top;\n",
       "    }\n",
       "\n",
       "    .dataframe thead th {\n",
       "        text-align: right;\n",
       "    }\n",
       "</style>\n",
       "<table border=\"1\" class=\"dataframe\">\n",
       "  <thead>\n",
       "    <tr style=\"text-align: right;\">\n",
       "      <th></th>\n",
       "      <th>id</th>\n",
       "      <th>neo_reference_id</th>\n",
       "      <th>name</th>\n",
       "      <th>nasa_jpl_url</th>\n",
       "      <th>absolute_magnitude_h</th>\n",
       "      <th>is_potentially_hazardous_asteroid</th>\n",
       "      <th>close_approach_data</th>\n",
       "      <th>is_sentry_object</th>\n",
       "      <th>links.self</th>\n",
       "      <th>estimated_diameter.kilometers.estimated_diameter_min</th>\n",
       "      <th>estimated_diameter.kilometers.estimated_diameter_max</th>\n",
       "      <th>estimated_diameter.meters.estimated_diameter_min</th>\n",
       "      <th>estimated_diameter.meters.estimated_diameter_max</th>\n",
       "      <th>estimated_diameter.miles.estimated_diameter_min</th>\n",
       "      <th>estimated_diameter.miles.estimated_diameter_max</th>\n",
       "      <th>estimated_diameter.feet.estimated_diameter_min</th>\n",
       "      <th>estimated_diameter.feet.estimated_diameter_max</th>\n",
       "    </tr>\n",
       "  </thead>\n",
       "  <tbody>\n",
       "    <tr>\n",
       "      <th>0</th>\n",
       "      <td>3451790</td>\n",
       "      <td>3451790</td>\n",
       "      <td>(2009 FF)</td>\n",
       "      <td>https://ssd.jpl.nasa.gov/tools/sbdb_lookup.htm...</td>\n",
       "      <td>21.80</td>\n",
       "      <td>True</td>\n",
       "      <td>[{'close_approach_date': '2025-09-11', 'close_...</td>\n",
       "      <td>False</td>\n",
       "      <td>http://api.nasa.gov/neo/rest/v1/neo/3451790?ap...</td>\n",
       "      <td>0.116026</td>\n",
       "      <td>0.259442</td>\n",
       "      <td>116.025908</td>\n",
       "      <td>259.441818</td>\n",
       "      <td>0.072095</td>\n",
       "      <td>0.161210</td>\n",
       "      <td>380.662441</td>\n",
       "      <td>851.187094</td>\n",
       "    </tr>\n",
       "    <tr>\n",
       "      <th>1</th>\n",
       "      <td>3684637</td>\n",
       "      <td>3684637</td>\n",
       "      <td>(2014 QY363)</td>\n",
       "      <td>https://ssd.jpl.nasa.gov/tools/sbdb_lookup.htm...</td>\n",
       "      <td>21.60</td>\n",
       "      <td>False</td>\n",
       "      <td>[{'close_approach_date': '2025-09-11', 'close_...</td>\n",
       "      <td>False</td>\n",
       "      <td>http://api.nasa.gov/neo/rest/v1/neo/3684637?ap...</td>\n",
       "      <td>0.127220</td>\n",
       "      <td>0.284472</td>\n",
       "      <td>127.219879</td>\n",
       "      <td>284.472297</td>\n",
       "      <td>0.079051</td>\n",
       "      <td>0.176763</td>\n",
       "      <td>417.388066</td>\n",
       "      <td>933.308089</td>\n",
       "    </tr>\n",
       "    <tr>\n",
       "      <th>2</th>\n",
       "      <td>3788903</td>\n",
       "      <td>3788903</td>\n",
       "      <td>(2017 VD)</td>\n",
       "      <td>https://ssd.jpl.nasa.gov/tools/sbdb_lookup.htm...</td>\n",
       "      <td>20.87</td>\n",
       "      <td>True</td>\n",
       "      <td>[{'close_approach_date': '2025-09-11', 'close_...</td>\n",
       "      <td>False</td>\n",
       "      <td>http://api.nasa.gov/neo/rest/v1/neo/3788903?ap...</td>\n",
       "      <td>0.178055</td>\n",
       "      <td>0.398144</td>\n",
       "      <td>178.055329</td>\n",
       "      <td>398.143820</td>\n",
       "      <td>0.110638</td>\n",
       "      <td>0.247395</td>\n",
       "      <td>584.171046</td>\n",
       "      <td>1306.246170</td>\n",
       "    </tr>\n",
       "    <tr>\n",
       "      <th>3</th>\n",
       "      <td>3991699</td>\n",
       "      <td>3991699</td>\n",
       "      <td>(2020 DX1)</td>\n",
       "      <td>https://ssd.jpl.nasa.gov/tools/sbdb_lookup.htm...</td>\n",
       "      <td>26.50</td>\n",
       "      <td>False</td>\n",
       "      <td>[{'close_approach_date': '2025-09-11', 'close_...</td>\n",
       "      <td>False</td>\n",
       "      <td>http://api.nasa.gov/neo/rest/v1/neo/3991699?ap...</td>\n",
       "      <td>0.013322</td>\n",
       "      <td>0.029788</td>\n",
       "      <td>13.321557</td>\n",
       "      <td>29.787906</td>\n",
       "      <td>0.008278</td>\n",
       "      <td>0.018509</td>\n",
       "      <td>43.705896</td>\n",
       "      <td>97.729354</td>\n",
       "    </tr>\n",
       "    <tr>\n",
       "      <th>4</th>\n",
       "      <td>54053846</td>\n",
       "      <td>54053846</td>\n",
       "      <td>(2020 RR2)</td>\n",
       "      <td>https://ssd.jpl.nasa.gov/tools/sbdb_lookup.htm...</td>\n",
       "      <td>24.90</td>\n",
       "      <td>False</td>\n",
       "      <td>[{'close_approach_date': '2025-09-11', 'close_...</td>\n",
       "      <td>False</td>\n",
       "      <td>http://api.nasa.gov/neo/rest/v1/neo/54053846?a...</td>\n",
       "      <td>0.027833</td>\n",
       "      <td>0.062236</td>\n",
       "      <td>27.832677</td>\n",
       "      <td>62.235757</td>\n",
       "      <td>0.017294</td>\n",
       "      <td>0.038671</td>\n",
       "      <td>91.314559</td>\n",
       "      <td>204.185562</td>\n",
       "    </tr>\n",
       "  </tbody>\n",
       "</table>\n",
       "</div>"
      ],
      "text/plain": [
       "         id neo_reference_id          name  \\\n",
       "0   3451790          3451790     (2009 FF)   \n",
       "1   3684637          3684637  (2014 QY363)   \n",
       "2   3788903          3788903     (2017 VD)   \n",
       "3   3991699          3991699    (2020 DX1)   \n",
       "4  54053846         54053846    (2020 RR2)   \n",
       "\n",
       "                                        nasa_jpl_url  absolute_magnitude_h  \\\n",
       "0  https://ssd.jpl.nasa.gov/tools/sbdb_lookup.htm...                 21.80   \n",
       "1  https://ssd.jpl.nasa.gov/tools/sbdb_lookup.htm...                 21.60   \n",
       "2  https://ssd.jpl.nasa.gov/tools/sbdb_lookup.htm...                 20.87   \n",
       "3  https://ssd.jpl.nasa.gov/tools/sbdb_lookup.htm...                 26.50   \n",
       "4  https://ssd.jpl.nasa.gov/tools/sbdb_lookup.htm...                 24.90   \n",
       "\n",
       "   is_potentially_hazardous_asteroid  \\\n",
       "0                               True   \n",
       "1                              False   \n",
       "2                               True   \n",
       "3                              False   \n",
       "4                              False   \n",
       "\n",
       "                                 close_approach_data  is_sentry_object  \\\n",
       "0  [{'close_approach_date': '2025-09-11', 'close_...             False   \n",
       "1  [{'close_approach_date': '2025-09-11', 'close_...             False   \n",
       "2  [{'close_approach_date': '2025-09-11', 'close_...             False   \n",
       "3  [{'close_approach_date': '2025-09-11', 'close_...             False   \n",
       "4  [{'close_approach_date': '2025-09-11', 'close_...             False   \n",
       "\n",
       "                                          links.self  \\\n",
       "0  http://api.nasa.gov/neo/rest/v1/neo/3451790?ap...   \n",
       "1  http://api.nasa.gov/neo/rest/v1/neo/3684637?ap...   \n",
       "2  http://api.nasa.gov/neo/rest/v1/neo/3788903?ap...   \n",
       "3  http://api.nasa.gov/neo/rest/v1/neo/3991699?ap...   \n",
       "4  http://api.nasa.gov/neo/rest/v1/neo/54053846?a...   \n",
       "\n",
       "   estimated_diameter.kilometers.estimated_diameter_min  \\\n",
       "0                                           0.116026      \n",
       "1                                           0.127220      \n",
       "2                                           0.178055      \n",
       "3                                           0.013322      \n",
       "4                                           0.027833      \n",
       "\n",
       "   estimated_diameter.kilometers.estimated_diameter_max  \\\n",
       "0                                           0.259442      \n",
       "1                                           0.284472      \n",
       "2                                           0.398144      \n",
       "3                                           0.029788      \n",
       "4                                           0.062236      \n",
       "\n",
       "   estimated_diameter.meters.estimated_diameter_min  \\\n",
       "0                                        116.025908   \n",
       "1                                        127.219879   \n",
       "2                                        178.055329   \n",
       "3                                         13.321557   \n",
       "4                                         27.832677   \n",
       "\n",
       "   estimated_diameter.meters.estimated_diameter_max  \\\n",
       "0                                        259.441818   \n",
       "1                                        284.472297   \n",
       "2                                        398.143820   \n",
       "3                                         29.787906   \n",
       "4                                         62.235757   \n",
       "\n",
       "   estimated_diameter.miles.estimated_diameter_min  \\\n",
       "0                                         0.072095   \n",
       "1                                         0.079051   \n",
       "2                                         0.110638   \n",
       "3                                         0.008278   \n",
       "4                                         0.017294   \n",
       "\n",
       "   estimated_diameter.miles.estimated_diameter_max  \\\n",
       "0                                         0.161210   \n",
       "1                                         0.176763   \n",
       "2                                         0.247395   \n",
       "3                                         0.018509   \n",
       "4                                         0.038671   \n",
       "\n",
       "   estimated_diameter.feet.estimated_diameter_min  \\\n",
       "0                                      380.662441   \n",
       "1                                      417.388066   \n",
       "2                                      584.171046   \n",
       "3                                       43.705896   \n",
       "4                                       91.314559   \n",
       "\n",
       "   estimated_diameter.feet.estimated_diameter_max  \n",
       "0                                      851.187094  \n",
       "1                                      933.308089  \n",
       "2                                     1306.246170  \n",
       "3                                       97.729354  \n",
       "4                                      204.185562  "
      ]
     },
     "execution_count": 11,
     "metadata": {},
     "output_type": "execute_result"
    }
   ],
   "source": [
    "nasa.head()"
   ]
  },
  {
   "cell_type": "markdown",
   "id": "684746a2",
   "metadata": {},
   "source": [
    "## *Problem 5*"
   ]
  },
  {
   "cell_type": "code",
   "execution_count": 16,
   "id": "1fcb1630",
   "metadata": {},
   "outputs": [],
   "source": [
    "reddit_raw = requests.get('http://www.reddit.com/r/popular/top.json',\n",
    "                          headers=myheaders)\n",
    "reddit_json = json.loads(reddit_raw.text)"
   ]
  },
  {
   "cell_type": "code",
   "execution_count": 13,
   "id": "19d8a993",
   "metadata": {},
   "outputs": [],
   "source": [
    "#reddit_json"
   ]
  },
  {
   "cell_type": "code",
   "execution_count": 17,
   "id": "242c139e",
   "metadata": {},
   "outputs": [
    {
     "data": {
      "text/html": [
       "<div>\n",
       "<style scoped>\n",
       "    .dataframe tbody tr th:only-of-type {\n",
       "        vertical-align: middle;\n",
       "    }\n",
       "\n",
       "    .dataframe tbody tr th {\n",
       "        vertical-align: top;\n",
       "    }\n",
       "\n",
       "    .dataframe thead th {\n",
       "        text-align: right;\n",
       "    }\n",
       "</style>\n",
       "<table border=\"1\" class=\"dataframe\">\n",
       "  <thead>\n",
       "    <tr style=\"text-align: right;\">\n",
       "      <th></th>\n",
       "      <th>subreddit</th>\n",
       "      <th>title</th>\n",
       "      <th>ups</th>\n",
       "      <th>created_utc</th>\n",
       "    </tr>\n",
       "  </thead>\n",
       "  <tbody>\n",
       "    <tr>\n",
       "      <th>0</th>\n",
       "      <td>pics</td>\n",
       "      <td>Shooting at a Colorado school (More important ...</td>\n",
       "      <td>147241</td>\n",
       "      <td>1.757540e+09</td>\n",
       "    </tr>\n",
       "    <tr>\n",
       "      <th>1</th>\n",
       "      <td>BlackPeopleTwitter</td>\n",
       "      <td>Obituary of a hateful douche</td>\n",
       "      <td>130045</td>\n",
       "      <td>1.757541e+09</td>\n",
       "    </tr>\n",
       "    <tr>\n",
       "      <th>2</th>\n",
       "      <td>AskReddit</td>\n",
       "      <td>Why do you think President Trump ordered all U...</td>\n",
       "      <td>103867</td>\n",
       "      <td>1.757544e+09</td>\n",
       "    </tr>\n",
       "    <tr>\n",
       "      <th>3</th>\n",
       "      <td>pics</td>\n",
       "      <td>Charlie Kirk has just been shot</td>\n",
       "      <td>96519</td>\n",
       "      <td>1.757533e+09</td>\n",
       "    </tr>\n",
       "    <tr>\n",
       "      <th>4</th>\n",
       "      <td>agedlikemilk</td>\n",
       "      <td>Charlie Kirk says gun deaths \"unfortunately\" w...</td>\n",
       "      <td>94856</td>\n",
       "      <td>1.757531e+09</td>\n",
       "    </tr>\n",
       "  </tbody>\n",
       "</table>\n",
       "</div>"
      ],
      "text/plain": [
       "            subreddit                                              title  \\\n",
       "0                pics  Shooting at a Colorado school (More important ...   \n",
       "1  BlackPeopleTwitter                       Obituary of a hateful douche   \n",
       "2           AskReddit  Why do you think President Trump ordered all U...   \n",
       "3                pics                    Charlie Kirk has just been shot   \n",
       "4        agedlikemilk  Charlie Kirk says gun deaths \"unfortunately\" w...   \n",
       "\n",
       "      ups   created_utc  \n",
       "0  147241  1.757540e+09  \n",
       "1  130045  1.757541e+09  \n",
       "2  103867  1.757544e+09  \n",
       "3   96519  1.757533e+09  \n",
       "4   94856  1.757531e+09  "
      ]
     },
     "execution_count": 17,
     "metadata": {},
     "output_type": "execute_result"
    }
   ],
   "source": [
    "top25 = reddit_json['data']['children']\n",
    "\n",
    "reddit = pd.DataFrame(\n",
    "    [t['data']['subreddit'], t['data']['title'],\n",
    "      t['data']['ups'], t['data']['created_utc']] for t in top25\n",
    ")\n",
    "reddit.columns = ['subreddit', 'title', 'ups', 'created_utc']\n",
    "reddit.head()\n"
   ]
  }
 ],
 "metadata": {
  "kernelspec": {
   "display_name": "ds6001",
   "language": "python",
   "name": "python3"
  },
  "language_info": {
   "codemirror_mode": {
    "name": "ipython",
    "version": 3
   },
   "file_extension": ".py",
   "mimetype": "text/x-python",
   "name": "python",
   "nbconvert_exporter": "python",
   "pygments_lexer": "ipython3",
   "version": "3.13.5"
  }
 },
 "nbformat": 4,
 "nbformat_minor": 5
}
