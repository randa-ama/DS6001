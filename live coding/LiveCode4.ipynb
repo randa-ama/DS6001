{
 "cells": [
  {
   "cell_type": "markdown",
   "id": "bc618ed5",
   "metadata": {},
   "source": [
    "# **DS 6001: Live Coding 3**\n",
    "## Randa Ampah"
   ]
  },
  {
   "cell_type": "code",
   "execution_count": 3,
   "id": "4cdfaef1",
   "metadata": {},
   "outputs": [],
   "source": [
    "import numpy as np\n",
    "import pandas as pd\n",
    "import requests\n",
    "import json\n",
    "import os\n",
    "import dotenv"
   ]
  },
  {
   "cell_type": "markdown",
   "id": "dd43183a",
   "metadata": {},
   "source": [
    "### Load API Keys secretly as Environmental Variables"
   ]
  },
  {
   "cell_type": "code",
   "execution_count": 21,
   "id": "58a2064d",
   "metadata": {},
   "outputs": [],
   "source": [
    "dotenv.load_dotenv()\n",
    "newskey = os.getenv('newskey')\n",
    "congresskey = os.getenv('congresskey')"
   ]
  },
  {
   "cell_type": "markdown",
   "id": "72a21ce7",
   "metadata": {},
   "source": [
    "## NewsAPI"
   ]
  },
  {
   "cell_type": "markdown",
   "id": "45bb5661",
   "metadata": {},
   "source": [
    "### Code"
   ]
  },
  {
   "cell_type": "code",
   "execution_count": 11,
   "id": "3adef4e9",
   "metadata": {},
   "outputs": [
    {
     "data": {
      "text/plain": [
       "<Response [200]>"
      ]
     },
     "execution_count": 11,
     "metadata": {},
     "output_type": "execute_result"
    }
   ],
   "source": [
    "useragent = 'ds6001/0.0 (gba4fj@virginia.edu) python-requests/2.32.5'\n",
    "\n",
    "headers = {'User_Agent': useragent,\n",
    "           'From': 'gba4fj@virginia.edu'}\n",
    "\n",
    "params = {'apiKey': newskey,\n",
    "          'q': '\"john mcguire\"'} # q is query, what you're searching for\n",
    "\n",
    "root = 'https://newsapi.org/'\n",
    "endpoint = '/v2/everything'\n",
    "\n",
    "r = requests.get(root + endpoint, headers=headers, params=params)\n",
    "r"
   ]
  },
  {
   "cell_type": "code",
   "execution_count": 13,
   "id": "d9664933",
   "metadata": {},
   "outputs": [
    {
     "data": {
      "text/html": [
       "<div>\n",
       "<style scoped>\n",
       "    .dataframe tbody tr th:only-of-type {\n",
       "        vertical-align: middle;\n",
       "    }\n",
       "\n",
       "    .dataframe tbody tr th {\n",
       "        vertical-align: top;\n",
       "    }\n",
       "\n",
       "    .dataframe thead th {\n",
       "        text-align: right;\n",
       "    }\n",
       "</style>\n",
       "<table border=\"1\" class=\"dataframe\">\n",
       "  <thead>\n",
       "    <tr style=\"text-align: right;\">\n",
       "      <th></th>\n",
       "      <th>author</th>\n",
       "      <th>title</th>\n",
       "      <th>description</th>\n",
       "      <th>url</th>\n",
       "      <th>urlToImage</th>\n",
       "      <th>publishedAt</th>\n",
       "      <th>content</th>\n",
       "      <th>source.id</th>\n",
       "      <th>source.name</th>\n",
       "    </tr>\n",
       "  </thead>\n",
       "  <tbody>\n",
       "    <tr>\n",
       "      <th>0</th>\n",
       "      <td>Rachel Cohen</td>\n",
       "      <td>Trump supporters, MAGA celebrate as FBI raids ...</td>\n",
       "      <td>Some of Trump's most ardent supporters applaud...</td>\n",
       "      <td>https://www.nj.com/politics/2025/08/maga-watch...</td>\n",
       "      <td>https://s.yimg.com/ny/api/res/1.2/fuHecV42scO1...</td>\n",
       "      <td>2025-08-22T13:02:06Z</td>\n",
       "      <td>MAGA world is praising an early morning FBI ra...</td>\n",
       "      <td>None</td>\n",
       "      <td>nj.com</td>\n",
       "    </tr>\n",
       "    <tr>\n",
       "      <th>1</th>\n",
       "      <td>James Bickerton</td>\n",
       "      <td>MAGA Celebrates John Bolton's Home Being Raide...</td>\n",
       "      <td>Former White House national security advisor J...</td>\n",
       "      <td>https://www.newsweek.com/maga-celebrates-john-...</td>\n",
       "      <td>https://d.newsweek.com/en/full/2707813/bolton.jpg</td>\n",
       "      <td>2025-08-22T13:45:43Z</td>\n",
       "      <td>A number of prominent supporters of Donald Tru...</td>\n",
       "      <td>newsweek</td>\n",
       "      <td>Newsweek</td>\n",
       "    </tr>\n",
       "    <tr>\n",
       "      <th>2</th>\n",
       "      <td>John Pike</td>\n",
       "      <td>FBI raids home of Trump's former national secu...</td>\n",
       "      <td>The FBI has raided the home of Donald Trump's ...</td>\n",
       "      <td>https://www.globalsecurity.org/intell/library/...</td>\n",
       "      <td>None</td>\n",
       "      <td>2025-08-23T09:19:55Z</td>\n",
       "      <td>Iran Press TV\\r\\nFriday, 22 August 2025 3:41 P...</td>\n",
       "      <td>None</td>\n",
       "      <td>Globalsecurity.org</td>\n",
       "    </tr>\n",
       "    <tr>\n",
       "      <th>3</th>\n",
       "      <td>GlobeNewswire</td>\n",
       "      <td>Hitachi announces historic $1 billion USD manu...</td>\n",
       "      <td>Trump administration-backed investment answers...</td>\n",
       "      <td>https://financialpost.com/globe-newswire/hitac...</td>\n",
       "      <td>https://smartcdn.gprod.postmedia.digital/finan...</td>\n",
       "      <td>2025-09-04T12:08:09Z</td>\n",
       "      <td>Thank you, Hitachi Energy, for trusting Virgin...</td>\n",
       "      <td>financial-post</td>\n",
       "      <td>Financial Post</td>\n",
       "    </tr>\n",
       "    <tr>\n",
       "      <th>4</th>\n",
       "      <td>Hitachi Energy Ltd</td>\n",
       "      <td>Hitachi announces historic $1 billion USD manu...</td>\n",
       "      <td>Trump administration-backed investment answers...</td>\n",
       "      <td>https://www.globenewswire.com/news-release/202...</td>\n",
       "      <td>https://ml.globenewswire.com/Resource/Download...</td>\n",
       "      <td>2025-09-04T12:07:00Z</td>\n",
       "      <td>Raleigh, North Carolina and Zurich, Switzerlan...</td>\n",
       "      <td>None</td>\n",
       "      <td>GlobeNewswire</td>\n",
       "    </tr>\n",
       "  </tbody>\n",
       "</table>\n",
       "</div>"
      ],
      "text/plain": [
       "               author                                              title  \\\n",
       "0        Rachel Cohen  Trump supporters, MAGA celebrate as FBI raids ...   \n",
       "1     James Bickerton  MAGA Celebrates John Bolton's Home Being Raide...   \n",
       "2           John Pike  FBI raids home of Trump's former national secu...   \n",
       "3       GlobeNewswire  Hitachi announces historic $1 billion USD manu...   \n",
       "4  Hitachi Energy Ltd  Hitachi announces historic $1 billion USD manu...   \n",
       "\n",
       "                                         description  \\\n",
       "0  Some of Trump's most ardent supporters applaud...   \n",
       "1  Former White House national security advisor J...   \n",
       "2  The FBI has raided the home of Donald Trump's ...   \n",
       "3  Trump administration-backed investment answers...   \n",
       "4  Trump administration-backed investment answers...   \n",
       "\n",
       "                                                 url  \\\n",
       "0  https://www.nj.com/politics/2025/08/maga-watch...   \n",
       "1  https://www.newsweek.com/maga-celebrates-john-...   \n",
       "2  https://www.globalsecurity.org/intell/library/...   \n",
       "3  https://financialpost.com/globe-newswire/hitac...   \n",
       "4  https://www.globenewswire.com/news-release/202...   \n",
       "\n",
       "                                          urlToImage           publishedAt  \\\n",
       "0  https://s.yimg.com/ny/api/res/1.2/fuHecV42scO1...  2025-08-22T13:02:06Z   \n",
       "1  https://d.newsweek.com/en/full/2707813/bolton.jpg  2025-08-22T13:45:43Z   \n",
       "2                                               None  2025-08-23T09:19:55Z   \n",
       "3  https://smartcdn.gprod.postmedia.digital/finan...  2025-09-04T12:08:09Z   \n",
       "4  https://ml.globenewswire.com/Resource/Download...  2025-09-04T12:07:00Z   \n",
       "\n",
       "                                             content       source.id  \\\n",
       "0  MAGA world is praising an early morning FBI ra...            None   \n",
       "1  A number of prominent supporters of Donald Tru...        newsweek   \n",
       "2  Iran Press TV\\r\\nFriday, 22 August 2025 3:41 P...            None   \n",
       "3  Thank you, Hitachi Energy, for trusting Virgin...  financial-post   \n",
       "4  Raleigh, North Carolina and Zurich, Switzerlan...            None   \n",
       "\n",
       "          source.name  \n",
       "0              nj.com  \n",
       "1            Newsweek  \n",
       "2  Globalsecurity.org  \n",
       "3      Financial Post  \n",
       "4       GlobeNewswire  "
      ]
     },
     "execution_count": 13,
     "metadata": {},
     "output_type": "execute_result"
    }
   ],
   "source": [
    "newsdf = pd.json_normalize(r.json(), record_path=['articles'])\n",
    "newsdf"
   ]
  },
  {
   "cell_type": "markdown",
   "id": "4d3d3dad",
   "metadata": {},
   "source": [
    "## Congress API"
   ]
  },
  {
   "cell_type": "code",
   "execution_count": 22,
   "id": "a475ecc4",
   "metadata": {},
   "outputs": [
    {
     "data": {
      "text/plain": [
       "<Response [200]>"
      ]
     },
     "execution_count": 22,
     "metadata": {},
     "output_type": "execute_result"
    }
   ],
   "source": [
    "## Getting the bioguideID for John McGuire\n",
    "\n",
    "stateCode = 'VA'\n",
    "district = '5'\n",
    "root = 'https://api.congress.gov/v3'\n",
    "endpoint = f'/member/{stateCode}/{district}'\n",
    "\n",
    "\n",
    "params = {'format': 'json',\n",
    "          'currentMember': 'True',\n",
    "          'api_key': congresskey}\n",
    "\n",
    "r = requests.get(root+endpoint, headers=headers, params=params)\n",
    "r"
   ]
  },
  {
   "cell_type": "code",
   "execution_count": 24,
   "id": "b060f2d3",
   "metadata": {},
   "outputs": [
    {
     "data": {
      "text/plain": [
       "{'members': [{'bioguideId': 'M001239',\n",
       "   'depiction': {'attribution': 'Image courtesy of the Member',\n",
       "    'imageUrl': 'https://www.congress.gov/img/member/67744ba20b34857ecc909149_200.jpg'},\n",
       "   'district': 5,\n",
       "   'name': 'McGuire, John J.',\n",
       "   'partyName': 'Republican',\n",
       "   'state': 'Virginia',\n",
       "   'terms': {'item': [{'chamber': 'House of Representatives',\n",
       "      'startYear': 2025}]},\n",
       "   'updateDate': '2025-09-11T07:45:28Z',\n",
       "   'url': 'https://api.congress.gov/v3/member/M001239?format=json'}],\n",
       " 'pagination': {'count': 1},\n",
       " 'request': {'contentType': 'application/json', 'format': 'json'}}"
      ]
     },
     "execution_count": 24,
     "metadata": {},
     "output_type": "execute_result"
    }
   ],
   "source": [
    "r.json()"
   ]
  },
  {
   "cell_type": "code",
   "execution_count": 26,
   "id": "4a69d9e1",
   "metadata": {},
   "outputs": [],
   "source": [
    "bioguideId = r.json()['members'][0]['bioguideId']"
   ]
  },
  {
   "cell_type": "code",
   "execution_count": 28,
   "id": "06028375",
   "metadata": {},
   "outputs": [
    {
     "data": {
      "text/plain": [
       "<Response [200]>"
      ]
     },
     "execution_count": 28,
     "metadata": {},
     "output_type": "execute_result"
    }
   ],
   "source": [
    "## Getting John McGuire's sponsored legislature\n",
    "\n",
    "root = 'https://api.congress.gov/v3'\n",
    "endpoint = f'/member/{bioguideId}/sponsored-legislation'\n",
    "\n",
    "params = {'api_key': congresskey,\n",
    "          'format': 'json',\n",
    "          'offset': '0',\n",
    "          'limit': '250'}\n",
    "\n",
    "r = requests.get(root+endpoint, headers=headers, params=params)\n",
    "r"
   ]
  },
  {
   "cell_type": "code",
   "execution_count": 29,
   "id": "1bbe16b1",
   "metadata": {},
   "outputs": [
    {
     "data": {
      "text/plain": [
       "{'pagination': {'count': 7},\n",
       " 'request': {'bioguideId': 'm001239',\n",
       "  'contentType': 'application/json',\n",
       "  'format': 'json'},\n",
       " 'sponsoredLegislation': [{'congress': 119,\n",
       "   'introducedDate': '2025-09-09',\n",
       "   'latestAction': {'actionDate': '2025-09-09',\n",
       "    'text': 'Referred to the House Committee on Homeland Security.'},\n",
       "   'number': '5218',\n",
       "   'policyArea': {'name': None},\n",
       "   'title': 'Border Wall Status Act',\n",
       "   'type': 'HR',\n",
       "   'url': 'https://api.congress.gov/v3/bill/119/hr/5218?format=json'},\n",
       "  {'congress': 119,\n",
       "   'introducedDate': '2025-09-03',\n",
       "   'latestAction': {'actionDate': '2025-09-10',\n",
       "    'text': 'Ordered to be Reported (Amended) by the Yeas and Nays: 25 - 19.'},\n",
       "   'number': '5103',\n",
       "   'policyArea': {'name': 'Public Lands and Natural Resources'},\n",
       "   'title': 'Make the District of Columbia Safe and Beautiful Act',\n",
       "   'type': 'HR',\n",
       "   'url': 'https://api.congress.gov/v3/bill/119/hr/5103?format=json'},\n",
       "  {'congress': 119,\n",
       "   'introducedDate': '2025-07-22',\n",
       "   'latestAction': {'actionDate': '2025-07-22',\n",
       "    'text': 'Referred to the House Committee on Energy and Commerce.'},\n",
       "   'number': '4603',\n",
       "   'policyArea': {'name': 'Energy'},\n",
       "   'title': 'FAIR Act',\n",
       "   'type': 'HR',\n",
       "   'url': 'https://api.congress.gov/v3/bill/119/hr/4603?format=json'},\n",
       "  {'congress': 119,\n",
       "   'introducedDate': '2025-05-29',\n",
       "   'latestAction': {'actionDate': '2025-06-12',\n",
       "    'text': 'Subcommittee Hearings Held'},\n",
       "   'number': '3643',\n",
       "   'policyArea': {'name': 'Armed Forces and National Security'},\n",
       "   'title': 'VA Data Transparency and Trust Act',\n",
       "   'type': 'HR',\n",
       "   'url': 'https://api.congress.gov/v3/bill/119/hr/3643?format=json'},\n",
       "  {'congress': 119,\n",
       "   'introducedDate': '2025-05-17',\n",
       "   'latestAction': {'actionDate': '2025-05-18',\n",
       "    'text': 'Referred to the Subcommittee on Aviation.'},\n",
       "   'number': '3478',\n",
       "   'policyArea': {'name': 'Crime and Law Enforcement'},\n",
       "   'title': 'Manned Aircraft Clarification Act',\n",
       "   'type': 'HR',\n",
       "   'url': 'https://api.congress.gov/v3/bill/119/hr/3478?format=json'},\n",
       "  {'congress': 119,\n",
       "   'introducedDate': '2025-02-26',\n",
       "   'latestAction': {'actionDate': '2025-02-26',\n",
       "    'text': 'Referred to the House Committee on Natural Resources.'},\n",
       "   'number': '1622',\n",
       "   'policyArea': {'name': 'Energy'},\n",
       "   'title': 'Uranium for Energy Independence Act of 2025',\n",
       "   'type': 'HR',\n",
       "   'url': 'https://api.congress.gov/v3/bill/119/hr/1622?format=json'},\n",
       "  {'congress': 119,\n",
       "   'introducedDate': '2025-02-21',\n",
       "   'latestAction': {'actionDate': '2025-02-26',\n",
       "    'text': 'Sponsor introductory remarks on measure. (CR H845)'},\n",
       "   'number': '1487',\n",
       "   'policyArea': {'name': 'Transportation and Public Works'},\n",
       "   'title': 'Agricultural and Forestry Hauling Efficiency Act',\n",
       "   'type': 'HR',\n",
       "   'url': 'https://api.congress.gov/v3/bill/119/hr/1487?format=json'}]}"
      ]
     },
     "execution_count": 29,
     "metadata": {},
     "output_type": "execute_result"
    }
   ],
   "source": [
    "r.json()"
   ]
  },
  {
   "cell_type": "markdown",
   "id": "23a90141",
   "metadata": {},
   "source": [
    "## FEC API"
   ]
  },
  {
   "cell_type": "code",
   "execution_count": 39,
   "id": "3753c231",
   "metadata": {},
   "outputs": [],
   "source": [
    "dotenv.load_dotenv()\n",
    "feckey = os.getenv('feckey')"
   ]
  },
  {
   "cell_type": "code",
   "execution_count": 42,
   "id": "41cda773",
   "metadata": {},
   "outputs": [
    {
     "data": {
      "text/plain": [
       "<Response [200]>"
      ]
     },
     "execution_count": 42,
     "metadata": {},
     "output_type": "execute_result"
    }
   ],
   "source": [
    "root = 'https://api.open.fec.gov/'\n",
    "endpoint = '/v1/totals/inaugural_committees/by_contributor/'\n",
    "params = {'page':'1',\n",
    "          'per_page': '10',\n",
    "          'api_key': feckey}\n",
    "\n",
    "r = requests.get(root+endpoint,headers=headers,params=params)\n",
    "r\n"
   ]
  },
  {
   "cell_type": "code",
   "execution_count": 45,
   "id": "b9b4a0db",
   "metadata": {},
   "outputs": [
    {
     "data": {
      "text/html": [
       "<div>\n",
       "<style scoped>\n",
       "    .dataframe tbody tr th:only-of-type {\n",
       "        vertical-align: middle;\n",
       "    }\n",
       "\n",
       "    .dataframe tbody tr th {\n",
       "        vertical-align: top;\n",
       "    }\n",
       "\n",
       "    .dataframe thead th {\n",
       "        text-align: right;\n",
       "    }\n",
       "</style>\n",
       "<table border=\"1\" class=\"dataframe\">\n",
       "  <thead>\n",
       "    <tr style=\"text-align: right;\">\n",
       "      <th></th>\n",
       "      <th>committee_id</th>\n",
       "      <th>contributor_name</th>\n",
       "      <th>cycle</th>\n",
       "      <th>total_donation</th>\n",
       "    </tr>\n",
       "  </thead>\n",
       "  <tbody>\n",
       "    <tr>\n",
       "      <th>0</th>\n",
       "      <td>C00629584</td>\n",
       "      <td>None</td>\n",
       "      <td>2018</td>\n",
       "      <td>56043051.08</td>\n",
       "    </tr>\n",
       "    <tr>\n",
       "      <th>1</th>\n",
       "      <td>C00765040</td>\n",
       "      <td>UNITEMIZED TOTAL</td>\n",
       "      <td>2022</td>\n",
       "      <td>12001346.70</td>\n",
       "    </tr>\n",
       "    <tr>\n",
       "      <th>2</th>\n",
       "      <td>C00894162</td>\n",
       "      <td>PILGRIM'S PRIDE CORPORATION</td>\n",
       "      <td>2026</td>\n",
       "      <td>5000000.00</td>\n",
       "    </tr>\n",
       "    <tr>\n",
       "      <th>3</th>\n",
       "      <td>C00894162</td>\n",
       "      <td>RIPPLE LABS, INC.</td>\n",
       "      <td>2026</td>\n",
       "      <td>4889345.33</td>\n",
       "    </tr>\n",
       "    <tr>\n",
       "      <th>4</th>\n",
       "      <td>C00540005</td>\n",
       "      <td>AT&amp;T INC.</td>\n",
       "      <td>2014</td>\n",
       "      <td>4600000.00</td>\n",
       "    </tr>\n",
       "    <tr>\n",
       "      <th>5</th>\n",
       "      <td>C00540005</td>\n",
       "      <td>UNITEMIZED TOTAL</td>\n",
       "      <td>2014</td>\n",
       "      <td>4579277.46</td>\n",
       "    </tr>\n",
       "    <tr>\n",
       "      <th>6</th>\n",
       "      <td>C00894162</td>\n",
       "      <td>STEPHENS, WARREN A</td>\n",
       "      <td>2026</td>\n",
       "      <td>4000000.00</td>\n",
       "    </tr>\n",
       "    <tr>\n",
       "      <th>7</th>\n",
       "      <td>C00629584</td>\n",
       "      <td>AT&amp;T</td>\n",
       "      <td>2018</td>\n",
       "      <td>2082483.43</td>\n",
       "    </tr>\n",
       "    <tr>\n",
       "      <th>8</th>\n",
       "      <td>C00540005</td>\n",
       "      <td>MICROSOFT</td>\n",
       "      <td>2014</td>\n",
       "      <td>2074385.00</td>\n",
       "    </tr>\n",
       "    <tr>\n",
       "      <th>9</th>\n",
       "      <td>C00765040</td>\n",
       "      <td>ACTBLUE</td>\n",
       "      <td>2022</td>\n",
       "      <td>2023120.76</td>\n",
       "    </tr>\n",
       "  </tbody>\n",
       "</table>\n",
       "</div>"
      ],
      "text/plain": [
       "  committee_id             contributor_name  cycle  total_donation\n",
       "0    C00629584                         None   2018     56043051.08\n",
       "1    C00765040             UNITEMIZED TOTAL   2022     12001346.70\n",
       "2    C00894162  PILGRIM'S PRIDE CORPORATION   2026      5000000.00\n",
       "3    C00894162            RIPPLE LABS, INC.   2026      4889345.33\n",
       "4    C00540005                    AT&T INC.   2014      4600000.00\n",
       "5    C00540005             UNITEMIZED TOTAL   2014      4579277.46\n",
       "6    C00894162           STEPHENS, WARREN A   2026      4000000.00\n",
       "7    C00629584                         AT&T   2018      2082483.43\n",
       "8    C00540005                    MICROSOFT   2014      2074385.00\n",
       "9    C00765040                      ACTBLUE   2022      2023120.76"
      ]
     },
     "execution_count": 45,
     "metadata": {},
     "output_type": "execute_result"
    }
   ],
   "source": [
    "fec = pd.json_normalize(r.json(), record_path=['results'])\n",
    "fec"
   ]
  }
 ],
 "metadata": {
  "kernelspec": {
   "display_name": "ds6001",
   "language": "python",
   "name": "python3"
  },
  "language_info": {
   "codemirror_mode": {
    "name": "ipython",
    "version": 3
   },
   "file_extension": ".py",
   "mimetype": "text/x-python",
   "name": "python",
   "nbconvert_exporter": "python",
   "pygments_lexer": "ipython3",
   "version": "3.13.5"
  }
 },
 "nbformat": 4,
 "nbformat_minor": 5
}
