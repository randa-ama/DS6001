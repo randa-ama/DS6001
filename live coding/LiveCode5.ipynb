{
 "cells": [
  {
   "cell_type": "markdown",
   "id": "352cdc8c",
   "metadata": {},
   "source": [
    "# **DS 6001: Live Coding 5**\n",
    "## **Randa Ampah**"
   ]
  },
  {
   "cell_type": "markdown",
   "id": "dcb01618",
   "metadata": {},
   "source": [
    "don't web scrape!"
   ]
  },
  {
   "cell_type": "markdown",
   "id": "122d0758",
   "metadata": {},
   "source": [
    "### **Importing Packages**"
   ]
  },
  {
   "cell_type": "code",
   "execution_count": null,
   "id": "55e778a5",
   "metadata": {},
   "outputs": [],
   "source": [
    "import numpy as np\n",
    "import pandas as pd\n",
    "import requests\n",
    "import json\n",
    "from bs4 import BeautifulSoup # there are more invasive web scraping tools\n",
    "# BeautifulSoup is for parsing through HTML"
   ]
  },
  {
   "cell_type": "markdown",
   "id": "85a13767",
   "metadata": {},
   "source": [
    "### **Getting The Links to Each Movie**"
   ]
  },
  {
   "cell_type": "code",
   "execution_count": 4,
   "id": "f855a81e",
   "metadata": {},
   "outputs": [],
   "source": [
    "useragent = f'ds6001rt/0.0 (gba4fj@virginia.edu) python-requests/{requests.__version__}'\n",
    "headers = {'User-Agent': useragent,\n",
    "           'From': 'gba4fj@virginia.edu'}"
   ]
  },
  {
   "cell_type": "code",
   "execution_count": 5,
   "id": "4cfbf3a5",
   "metadata": {},
   "outputs": [],
   "source": [
    "url = 'https://www.rottentomatoes.com/browse/movies_in_theaters/sort:a_z?page=5'"
   ]
  },
  {
   "cell_type": "code",
   "execution_count": null,
   "id": "6b6cd5a6",
   "metadata": {},
   "outputs": [
    {
     "data": {
      "text/plain": [
       "<Response [200]>"
      ]
     },
     "execution_count": 7,
     "metadata": {},
     "output_type": "execute_result"
    }
   ],
   "source": [
    "r = requests.get(url,headers=headers) # no params, because this isn't an API\n",
    "r"
   ]
  },
  {
   "cell_type": "code",
   "execution_count": 32,
   "id": "2f084f97",
   "metadata": {},
   "outputs": [],
   "source": [
    "#r.text # data is in html not json"
   ]
  },
  {
   "cell_type": "code",
   "execution_count": 10,
   "id": "2b5e5336",
   "metadata": {},
   "outputs": [],
   "source": [
    "mysoup = BeautifulSoup(r.text,'html.parser')"
   ]
  },
  {
   "cell_type": "code",
   "execution_count": null,
   "id": "91ef23f7",
   "metadata": {},
   "outputs": [
    {
     "data": {
      "text/plain": [
       "<a data-qa=\"discovery-media-list-item-caption\" data-track=\"scores\" href=\"/m/a_photographic_memory\" slot=\"caption\">\n",
       "<score-pairs-deprecated>\n",
       "<score-icon-critics certified=\"false\" sentiment=\"positive\" size=\"1\" slot=\"criticsScoreIcon\"></score-icon-critics>\n",
       "<rt-text context=\"label\" size=\"1\" slot=\"criticsScore\"> 100%</rt-text>\n",
       "<score-icon-audience certified=\"\" sentiment=\"\" size=\"1\" slot=\"audienceScoreIcon\"></score-icon-audience>\n",
       "<rt-text context=\"label\" size=\"1\" slot=\"audienceScore\"> </rt-text>\n",
       "</score-pairs-deprecated>\n",
       "<span class=\"p--small\" data-qa=\"discovery-media-list-item-title\">\n",
       "          A Photographic Memory\n",
       "        </span>\n",
       "<span class=\"smaller\" data-qa=\"discovery-media-list-item-start-date\">\n",
       "            Opened Jun 12, 2025\n",
       "          </span>\n",
       "</a>"
      ]
     },
     "execution_count": 16,
     "metadata": {},
     "output_type": "execute_result"
    }
   ],
   "source": [
    "#mysoup.find_all('a') # narrows it down to specific tags ('a' tag in this case)\n",
    "ataglist = mysoup.find_all('a', attrs={'data-track':'scores'})\n",
    "ataglist[2] # we can index by href within this, href holds the url we want"
   ]
  },
  {
   "cell_type": "code",
   "execution_count": 17,
   "id": "3ffe5476",
   "metadata": {},
   "outputs": [
    {
     "data": {
      "text/plain": [
       "'/m/a_photographic_memory'"
      ]
     },
     "execution_count": 17,
     "metadata": {},
     "output_type": "execute_result"
    }
   ],
   "source": [
    "ataglist[2]['href']"
   ]
  },
  {
   "cell_type": "code",
   "execution_count": null,
   "id": "893da360",
   "metadata": {},
   "outputs": [
    {
     "data": {
      "text/plain": [
       "['https://www.rottentomatoes.com/m/a_big_bold_beautiful_journey',\n",
       " 'https://www.rottentomatoes.com/m/a_little_prayer',\n",
       " 'https://www.rottentomatoes.com/m/a_photographic_memory',\n",
       " 'https://www.rottentomatoes.com/m/a_savage_art_the_life_and_cartoons_of_pat_oliphant',\n",
       " 'https://www.rottentomatoes.com/m/ajey_the_untold_story_of_a_yogi']"
      ]
     },
     "execution_count": 22,
     "metadata": {},
     "output_type": "execute_result"
    }
   ],
   "source": [
    "# list comprehension\n",
    "#[movie['href'] for movie in ataglist] # just gets the endpoints but you can click them in this case\n",
    "\n",
    "links = ['https://www.rottentomatoes.com'+movie['href'] for movie in ataglist] # make clickable links\n",
    "links[:5]"
   ]
  },
  {
   "cell_type": "markdown",
   "id": "704d10b9",
   "metadata": {},
   "source": [
    "### **Getting Info from Each Link**"
   ]
  },
  {
   "cell_type": "code",
   "execution_count": 25,
   "id": "c95d60a5",
   "metadata": {},
   "outputs": [
    {
     "data": {
      "text/plain": [
       "'https://www.rottentomatoes.com/m/a_big_bold_beautiful_journey'"
      ]
     },
     "execution_count": 25,
     "metadata": {},
     "output_type": "execute_result"
    }
   ],
   "source": [
    "# we want title, reviews, tomatometers\n",
    "\n",
    "url = links[0]\n",
    "url"
   ]
  },
  {
   "cell_type": "code",
   "execution_count": 26,
   "id": "98d14a77",
   "metadata": {},
   "outputs": [
    {
     "data": {
      "text/plain": [
       "<Response [200]>"
      ]
     },
     "execution_count": 26,
     "metadata": {},
     "output_type": "execute_result"
    }
   ],
   "source": [
    "r = requests.get(url,headers=headers)\n",
    "r"
   ]
  },
  {
   "cell_type": "code",
   "execution_count": 27,
   "id": "779559a3",
   "metadata": {},
   "outputs": [],
   "source": [
    "mysoup = BeautifulSoup(r.text,'html.parser')"
   ]
  },
  {
   "cell_type": "code",
   "execution_count": 31,
   "id": "d8c23a48",
   "metadata": {},
   "outputs": [
    {
     "data": {
      "text/plain": [
       "'36%'"
      ]
     },
     "execution_count": 31,
     "metadata": {},
     "output_type": "execute_result"
    }
   ],
   "source": [
    "mysoup.find_all('rt-text', attrs = {'slot':'criticsScore',\n",
    "                                    'role':'button'})[0].text"
   ]
  }
 ],
 "metadata": {
  "kernelspec": {
   "display_name": "ds6001",
   "language": "python",
   "name": "python3"
  },
  "language_info": {
   "codemirror_mode": {
    "name": "ipython",
    "version": 3
   },
   "file_extension": ".py",
   "mimetype": "text/x-python",
   "name": "python",
   "nbconvert_exporter": "python",
   "pygments_lexer": "ipython3",
   "version": "3.13.5"
  }
 },
 "nbformat": 4,
 "nbformat_minor": 5
}
